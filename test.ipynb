{
 "cells": [
  {
   "metadata": {
    "ExecuteTime": {
     "end_time": "2024-11-28T04:35:17.231782Z",
     "start_time": "2024-11-28T04:35:17.220439Z"
    }
   },
   "cell_type": "code",
   "source": [
    "def create_grid(input_string):\n",
    "    grid_size = 4\n",
    "    grid = []\n",
    "    for i in range(0, len(input_string), grid_size):\n",
    "        grid.append(list(input_string[i:i + grid_size]))\n",
    "    return grid\n",
    "\n",
    "\n",
    "def sort_words(words):\n",
    "    # return sorted(words, key=lambda w: (-len(w), w))\n",
    "    return sorted(words, key=lambda w: (len(w), w))\n",
    "\n",
    "\n",
    "def load_dictionary(file_path):\n",
    "    with open(file_path, 'r') as file:\n",
    "        dictionary = set(word.strip().upper() for word in file if len(word.strip()) >= 3)\n",
    "    return dictionary\n",
    "\n",
    "\n",
    "def find_words(grid, dictionary):\n",
    "    rows, cols = len(grid), len(grid[0])\n",
    "    found_words = set()\n",
    "\n",
    "    prefixes = set()\n",
    "    for word in dictionary:\n",
    "        for i in range(1, len(word)):\n",
    "            prefixes.add(word[:i])\n",
    "\n",
    "    def dfs(row, col, path, visited):\n",
    "        if (row < 0 or row >= rows or\n",
    "                col < 0 or col >= cols or\n",
    "                (row, col) in visited):\n",
    "            return\n",
    "        path += grid[row][col]\n",
    "        if path not in prefixes and path not in dictionary:\n",
    "            return\n",
    "        if path in dictionary:\n",
    "            found_words.add(path)\n",
    "        visited.add((row, col))\n",
    "        for dr in [-1, 0, 1]:\n",
    "            for dc in [-1, 0, 1]:\n",
    "                if dr != 0 or dc != 0:\n",
    "                    dfs(row + dr, col + dc, path, visited)\n",
    "        visited.remove((row, col))\n",
    "\n",
    "    for row in range(rows):\n",
    "        for col in range(cols):\n",
    "            dfs(row, col, '', set())\n",
    "    return found_words\n",
    "\n",
    "\n",
    "class TrieNode:\n",
    "    def __init__(self):\n",
    "        self.children = {}\n",
    "        self.is_word = False\n",
    "\n",
    "\n",
    "def build_trie(dictionary):\n",
    "    root = TrieNode()\n",
    "    for word in dictionary:\n",
    "        node = root\n",
    "        for letter in word:\n",
    "            node = node.children.setdefault(letter, TrieNode())\n",
    "        node.is_word = True\n",
    "    return root\n",
    "\n",
    "\n",
    "def find_words_with_trie(grid, trie_root):\n",
    "    rows, cols = len(grid), len(grid[0])\n",
    "    found_words = set()\n",
    "\n",
    "    def dfs(row, col, node, path, visited):\n",
    "        if (row < 0 or row >= rows or\n",
    "                col < 0 or col >= cols or\n",
    "                (row, col) in visited):\n",
    "            return\n",
    "        letter = grid[row][col]\n",
    "        if letter not in node.children:\n",
    "            return\n",
    "        visited.add((row, col))\n",
    "        node = node.children[letter]\n",
    "        path += letter\n",
    "        if node.is_word:\n",
    "            found_words.add(path)\n",
    "        for dr in [-1, 0, 1]:\n",
    "            for dc in [-1, 0, 1]:\n",
    "                if dr != 0 or dc != 0:\n",
    "                    dfs(row + dr, col + dc, node, path, visited)\n",
    "        visited.remove((row, col))\n",
    "\n",
    "    for row in range(rows):\n",
    "        for col in range(cols):\n",
    "            dfs(row, col, trie_root, '', set())\n",
    "    return found_words"
   ],
   "id": "88ee7e2e229cff86",
   "outputs": [],
   "execution_count": 2
  },
  {
   "metadata": {
    "ExecuteTime": {
     "end_time": "2024-11-28T04:35:17.242282Z",
     "start_time": "2024-11-28T04:35:17.239671Z"
    }
   },
   "cell_type": "code",
   "source": [
    "def main():\n",
    "    input_string = input(\"Enter the 16 letters of the grid (e.g., ABCDEFGHIJKLMNOP): \").strip().upper()\n",
    "    if len(input_string) != 16 or not input_string.isalpha():\n",
    "        print(\"Please enter exactly 16 alphabetic characters.\")\n",
    "        return\n",
    "    grid = create_grid(input_string)\n",
    "\n",
    "    dictionary = load_dictionary('Collins Scrabble Words (2019).txt')\n",
    "    trie_root = build_trie(dictionary)\n",
    "\n",
    "    found_words = find_words_with_trie(grid, trie_root)\n",
    "\n",
    "    sorted_words = sort_words(found_words)\n",
    "\n",
    "    print(\"\\nWords found:\")\n",
    "    for word in sorted_words:\n",
    "        print(word)\n",
    "    print(f\"\\nTotal words found: {len(sorted_words)}\")"
   ],
   "id": "b49445cd71c0849f",
   "outputs": [],
   "execution_count": 3
  },
  {
   "metadata": {
    "ExecuteTime": {
     "end_time": "2024-11-28T04:35:32.865522Z",
     "start_time": "2024-11-28T04:35:17.250Z"
    }
   },
   "cell_type": "code",
   "source": "main()",
   "id": "64c5ceb8c7583b2e",
   "outputs": [
    {
     "name": "stdout",
     "output_type": "stream",
     "text": [
      "\n",
      "Words found:\n",
      "ABA\n",
      "ABB\n",
      "BAA\n",
      "ABBA\n",
      "BABA\n",
      "\n",
      "Total words found: 5\n"
     ]
    }
   ],
   "execution_count": 4
  },
  {
   "metadata": {
    "ExecuteTime": {
     "end_time": "2024-11-28T04:35:32.876397Z",
     "start_time": "2024-11-28T04:35:32.875068Z"
    }
   },
   "cell_type": "code",
   "source": "",
   "id": "4d9f5f965648e2db",
   "outputs": [],
   "execution_count": null
  }
 ],
 "metadata": {
  "kernelspec": {
   "display_name": "Python 3",
   "language": "python",
   "name": "python3"
  },
  "language_info": {
   "codemirror_mode": {
    "name": "ipython",
    "version": 2
   },
   "file_extension": ".py",
   "mimetype": "text/x-python",
   "name": "python",
   "nbconvert_exporter": "python",
   "pygments_lexer": "ipython2",
   "version": "2.7.6"
  }
 },
 "nbformat": 4,
 "nbformat_minor": 5
}
